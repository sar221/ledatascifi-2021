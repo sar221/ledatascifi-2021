{
 "cells": [
  {
   "cell_type": "code",
   "execution_count": null,
   "id": "solved-hebrew",
   "metadata": {},
   "outputs": [],
   "source": [
    "import pandas as pd\n",
    "import pandas_datareader as pdr # IF NECESSARY, from terminal: pip install pandas_datareader \n",
    "import datetime\n",
    "import numpy as np\n",
    "\n",
    "start = datetime.datetime(2017, 1, 1) # you can specify start and end dates this way\n",
    "end = datetime.datetime(2021, 1, 27)\n",
    "macro_df = pdr.data.DataReader(['GDP','CPIAUCSL','UNRATE'], 'fred', start, end)\n",
    "\n",
    "# prof demo+vocab coverage (students should type out if possible)\n",
    "#    vocab: df, rows, columns/vars (accessing/series), index, \n",
    "#    how to: access 1 var (note: series), access multiple vars\n",
    "#            access col names, rename (some cols, all cols via set_axis(1))\n",
    "#            access index\n",
    "#    index (reset and set)"
   ]
  },
  {
   "cell_type": "code",
   "execution_count": null,
   "id": "suburban-dragon",
   "metadata": {},
   "outputs": [],
   "source": [
    "# Q0: Do each of the four new golden rules for initial data exploration, from the lecture.\n",
    "\n",
    "macro_df.head(10)\n",
    "macro_df.shape # 49 months, 3 variables/columns\n",
    "macro_df.describe()"
   ]
  },
  {
   "cell_type": "code",
   "execution_count": null,
   "id": "comprehensive-monitor",
   "metadata": {},
   "outputs": [],
   "source": [
    "# Q1: What is the second series above?\n"
   ]
  },
  {
   "cell_type": "code",
   "execution_count": null,
   "id": "extraordinary-questionnaire",
   "metadata": {},
   "outputs": [],
   "source": [
    "# Q2: What is the frequency of the series?\n",
    "# Q3: What is the average ANNUAL GDP, based on the data?"
   ]
  }
 ],
 "metadata": {
  "kernelspec": {
   "display_name": "Python 3",
   "language": "python",
   "name": "python3"
  },
  "language_info": {
   "codemirror_mode": {
    "name": "ipython",
    "version": 3
   },
   "file_extension": ".py",
   "mimetype": "text/x-python",
   "name": "python",
   "nbconvert_exporter": "python",
   "pygments_lexer": "ipython3",
   "version": "3.8.5"
  }
 },
 "nbformat": 4,
 "nbformat_minor": 5
}
